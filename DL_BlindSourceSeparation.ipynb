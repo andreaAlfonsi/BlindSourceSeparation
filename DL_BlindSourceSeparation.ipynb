{
  "nbformat": 4,
  "nbformat_minor": 0,
  "metadata": {
    "colab": {
      "provenance": [],
      "toc_visible": true
    },
    "kernelspec": {
      "name": "python3",
      "display_name": "Python 3"
    },
    "language_info": {
      "name": "python"
    },
    "accelerator": "GPU",
    "gpuClass": "standard"
  },
  "cells": [
    {
      "cell_type": "markdown",
      "source": [
        "##Task \n",
        "\n",
        "The task consists in decomposing an image obtained as a sum of a two images img1 and img2 into its components.\n",
        "\n",
        "The network takes in input the sum img1+img2 and returns the predicted components hat_img1 and hat_img2.\n",
        "\n",
        "No preprocessing is allowed. "
      ],
      "metadata": {
        "id": "cQ0fl0oyf7ns"
      }
    },
    {
      "cell_type": "code",
      "execution_count": null,
      "metadata": {
        "id": "IeOywhXFdKmH"
      },
      "outputs": [],
      "source": [
        "import tensorflow as tf\n",
        "from tensorflow.keras.datasets import mnist, fashion_mnist\n",
        "\n",
        "from keras.layers import concatenate, Input, Conv2D, Conv2DTranspose, MaxPooling2D, add\n",
        "from keras.models import Model\n",
        "\n",
        "import numpy as np\n",
        "from matplotlib import pyplot as plt"
      ]
    },
    {
      "cell_type": "code",
      "source": [
        "def display_history(history):\n",
        "    mse_training = history.history['loss']\n",
        "\n",
        "    mse_val = history.history['val_loss']\n",
        "\n",
        "    # Visualize the behavior of the loss\n",
        "    plt.plot(mse_training)\n",
        "    plt.plot(mse_val)\n",
        "    plt.grid()\n",
        "    plt.title('Loss during training')\n",
        "    plt.xlabel('Epoch')\n",
        "    plt.legend(['Training', 'Validation'])\n",
        "    plt.show()"
      ],
      "metadata": {
        "id": "gDggS_CYZ_uI"
      },
      "execution_count": null,
      "outputs": []
    },
    {
      "cell_type": "markdown",
      "source": [
        "##Dataset creation"
      ],
      "metadata": {
        "id": "9GIAvMbfgjHA"
      }
    },
    {
      "cell_type": "code",
      "source": [
        "(mnist_x_train, mnist_y_train), (mnist_x_test, mnist_y_test) = mnist.load_data()\n",
        "(fashion_mnist_x_train, fashion_mnist_y_train), (fashion_mnist_x_test, fashion_mnist_y_test) = fashion_mnist.load_data()\n",
        "\n",
        "#normnalize in and pad\n",
        "mnist_x_train = np.pad(mnist_x_train,((0,0),(2,2),(2,2)))/255.\n",
        "mnist_x_test = np.pad(mnist_x_test,((0,0),(2,2),(2,2)))/255.\n",
        "fashion_mnist_x_train = np.pad(fashion_mnist_x_train,((0,0),(2,2),(2,2)))/255.\n",
        "fashion_mnist_x_test = np.pad(fashion_mnist_x_test,((0,0),(2,2),(2,2)))/255.\n",
        "\n",
        "# Further break training data into train / validation sets (put 5000 into validation set and keep remaining 55,000 for train)\n",
        "(mnist_x_train, mnist_x_valid) = mnist_x_train[5000:], mnist_x_train[:5000] \n",
        "(mnist_y_train, mnist_y_valid) = mnist_y_train[5000:], mnist_y_train[:5000]\n",
        "\n",
        "(fashion_mnist_x_train, fashion_mnist_x_valid) = fashion_mnist_x_train[5000:], fashion_mnist_x_train[:5000] \n",
        "(fashion_mnist_y_train, fashion_mnist_y_valid) = fashion_mnist_y_train[5000:], fashion_mnist_y_train[:5000]"
      ],
      "metadata": {
        "colab": {
          "base_uri": "https://localhost:8080/"
        },
        "id": "WUqgr9-wdPtZ",
        "outputId": "10ee417f-da86-4378-e3e7-db808a66eaa1"
      },
      "execution_count": null,
      "outputs": [
        {
          "output_type": "stream",
          "name": "stdout",
          "text": [
            "Downloading data from https://storage.googleapis.com/tensorflow/tf-keras-datasets/mnist.npz\n",
            "11493376/11490434 [==============================] - 0s 0us/step\n",
            "11501568/11490434 [==============================] - 0s 0us/step\n",
            "Downloading data from https://storage.googleapis.com/tensorflow/tf-keras-datasets/train-labels-idx1-ubyte.gz\n",
            "32768/29515 [=================================] - 0s 0us/step\n",
            "40960/29515 [=========================================] - 0s 0us/step\n",
            "Downloading data from https://storage.googleapis.com/tensorflow/tf-keras-datasets/train-images-idx3-ubyte.gz\n",
            "26427392/26421880 [==============================] - 0s 0us/step\n",
            "26435584/26421880 [==============================] - 0s 0us/step\n",
            "Downloading data from https://storage.googleapis.com/tensorflow/tf-keras-datasets/t10k-labels-idx1-ubyte.gz\n",
            "16384/5148 [===============================================================================================] - 0s 0us/step\n",
            "Downloading data from https://storage.googleapis.com/tensorflow/tf-keras-datasets/t10k-images-idx3-ubyte.gz\n",
            "4423680/4422102 [==============================] - 0s 0us/step\n",
            "4431872/4422102 [==============================] - 0s 0us/step\n"
          ]
        }
      ]
    },
    {
      "cell_type": "code",
      "source": [
        "print(f\"Mnist:\\nTrain: {np.shape(mnist_x_train)}, Validation: {np.shape(mnist_x_valid)}, Test: {np.shape(mnist_x_test)}\")\n",
        "print(f\"Fashion mnist:\\nTrain: {np.shape(fashion_mnist_x_train)}, Validation: {np.shape(fashion_mnist_x_valid)}, Test: {np.shape(fashion_mnist_x_test)}\")"
      ],
      "metadata": {
        "colab": {
          "base_uri": "https://localhost:8080/"
        },
        "id": "MDpKboLkjG0y",
        "outputId": "7951fb63-ccb5-41a1-b111-6fafd5f8c905"
      },
      "execution_count": null,
      "outputs": [
        {
          "output_type": "stream",
          "name": "stdout",
          "text": [
            "Mnist:\n",
            "Train: (55000, 32, 32), Validation: (5000, 32, 32), Test: (10000, 32, 32)\n",
            "Fashion mnist:\n",
            "Train: (55000, 32, 32), Validation: (5000, 32, 32), Test: (10000, 32, 32)\n"
          ]
        }
      ]
    },
    {
      "cell_type": "code",
      "source": [
        "def datagenerator(x1,x2,batchsize):\n",
        "    n1 = x1.shape[0]\n",
        "    n2 = x2.shape[0]\n",
        "    while True:\n",
        "        num1 = np.random.randint(0, n1, batchsize)\n",
        "        num2 = np.random.randint(0, n2, batchsize)\n",
        "\n",
        "        x_data = (x1[num1] + x2[num2]) / 2.0\n",
        "        y_data = np.concatenate((x1[num1], x2[num2]), axis=2)\n",
        "\n",
        "        yield x_data, y_data "
      ],
      "metadata": {
        "id": "P0IA88kqdPw4"
      },
      "execution_count": null,
      "outputs": []
    },
    {
      "cell_type": "code",
      "source": [
        "batchsize = 16\n",
        "inputShape = (32,32,1)"
      ],
      "metadata": {
        "id": "Nx_7uOrzdP47"
      },
      "execution_count": null,
      "outputs": []
    },
    {
      "cell_type": "code",
      "source": [
        "train_generator = datagenerator(mnist_x_train,fashion_mnist_x_train,1)\n",
        "val_generator = datagenerator(mnist_x_valid,fashion_mnist_x_valid,1)\n",
        "test_generator = datagenerator(mnist_x_test,fashion_mnist_x_test,1)"
      ],
      "metadata": {
        "id": "NMrPtabVdP-I"
      },
      "execution_count": null,
      "outputs": []
    },
    {
      "cell_type": "code",
      "source": [
        "x, y = next(train_generator)\n",
        "plt.imshow(x[0],cmap='gray', interpolation='nearest')\n",
        "plt.show()\n",
        "plt.imshow(y[0], cmap='gray', interpolation='nearest')\n",
        "plt.show()"
      ],
      "metadata": {
        "colab": {
          "base_uri": "https://localhost:8080/",
          "height": 466
        },
        "id": "RDpt9CQVdXug",
        "outputId": "337a3289-b083-4e39-f86d-2fc99e93ecd1"
      },
      "execution_count": null,
      "outputs": [
        {
          "output_type": "display_data",
          "data": {
            "text/plain": [
              "<Figure size 432x288 with 1 Axes>"
            ],
            "image/png": "[encoded data removed]"
          },
          "metadata": {
            "needs_background": "light"
          }
        },
        {
          "output_type": "display_data",
          "data": {
            "text/plain": [
              "<Figure size 432x288 with 1 Axes>"
            ],
            "image/png": "[encoded data removed]"
          },
          "metadata": {
            "needs_background": "light"
          }
        }
      ]
    },
    {
      "cell_type": "markdown",
      "source": [
        "## Model"
      ],
      "metadata": {
        "id": "iFzZg-OOjJy8"
      }
    },
    {
      "cell_type": "markdown",
      "source": [
        "After a lot of experiments with different models based on the UNet backbone (including UNet++[[1]](https://arxiv.org/abs/1912.05074), DCNet[[2]](https://pubmed.ncbi.nlm.nih.gov/32444591/) and SUnet[[3]](https://arxiv.org/abs/2202.14009)) the best results emerged with a MultiResUNet[[4]](https://arxiv.org/pdf/1902.04049.pdf)-like structure.\n",
        "\n",
        "In particular, the model is made of an encoder and two decoders, whose output will then be concatenated to generate the desired result. \n",
        "\n",
        "Instead of the classical output generated for image segmentation, the model created uses instead a linear activation function to generate the output images.\n",
        "\n",
        "The **MultiResUNet** architecture has two main characteristics:\n",
        "\n",
        "\n",
        "*   *Multires blocks*, which replace the sequence of two convolutions of the classical UNet implementation. They use residual connections and convolutions with different kernel sizes to extract features from different scales. The results of 5x5 and 7x7 convolutions are simulated by a sequence of 3x3 convolutions.\n",
        "*   *Respaths*, which replace the ordinary skip connections with a sequence of convolutional layers along residual connections to try to fill the semantic gap between features in the decoders and the ones in the encoder.\n",
        "\n"
      ],
      "metadata": {
        "id": "jedqCqyLjZhY"
      }
    },
    {
      "cell_type": "code",
      "source": [
        "input = Input((32,32,1))\n",
        "\n",
        "# encoder\n",
        "res1 = Conv2D(64, 1,padding=\"same\", activation=\"relu\")(input)\n",
        "conv1_3x3 = Conv2D(round(64*0.5), (3,3), padding=\"same\", activation=\"relu\")(input)\n",
        "conv1_5x5 = Conv2D(round(64*0.333), (3,3), padding=\"same\", activation=\"relu\")(conv1_3x3)\n",
        "conv1_7x7 = Conv2D(round(64*0.167), (3,3), padding=\"same\", activation=\"relu\")(conv1_5x5)\n",
        "conv1 = concatenate([conv1_3x3, conv1_5x5, conv1_7x7], axis=3)\n",
        "conv1 = add([res1, conv1])\n",
        "x = MaxPooling2D((2,2))(conv1)\n",
        "# respath1\n",
        "respath1 = add([Conv2D(64, 3, padding=\"same\", activation=\"relu\")(conv1), Conv2D(64, 1, padding=\"same\", activation=\"relu\")(conv1)])\n",
        "respath1 = add([Conv2D(64, 3, padding=\"same\", activation=\"relu\")(respath1), Conv2D(64, 1, padding=\"same\", activation=\"relu\")(respath1)])\n",
        "respath1 = add([Conv2D(64, 3, padding=\"same\", activation=\"relu\")(respath1), Conv2D(64, 1, padding=\"same\", activation=\"relu\")(respath1)])\n",
        "\n",
        "res2 = Conv2D(128, 1, padding=\"same\", activation=\"relu\")(x)\n",
        "conv2_3x3 = Conv2D(round(128*0.5), (3,3), padding=\"same\", activation=\"relu\")(x)\n",
        "conv2_5x5 = Conv2D(round(128*0.333), (3,3), padding=\"same\", activation=\"relu\")(conv2_3x3)\n",
        "conv2_7x7 = Conv2D(round(128*0.167), (3,3), padding=\"same\", activation=\"relu\")(conv2_5x5)\n",
        "conv2 = concatenate([conv2_3x3, conv2_5x5, conv2_7x7], axis=3)\n",
        "conv2 = add([res2, conv2])\n",
        "x = MaxPooling2D((2,2))(conv2)\n",
        "# respath2\n",
        "respath2 = add([Conv2D(128, 3, padding=\"same\", activation=\"relu\")(conv2), Conv2D(128, 1, padding=\"same\", activation=\"relu\")(conv2)])\n",
        "\n",
        "# middle block\n",
        "resm = Conv2D(256, 1, padding=\"same\", activation=\"relu\")(x)\n",
        "convm_3x3 = Conv2D(round(256*0.5), (3,3), padding=\"same\", activation=\"relu\")(x)\n",
        "convm_5x5 = Conv2D(round(256*0.333), (3,3), padding=\"same\", activation=\"relu\")(convm_3x3)\n",
        "convm_7x7 = Conv2D(round(256*0.167), (3,3), padding=\"same\", activation=\"relu\")(convm_3x3)\n",
        "convm = concatenate([convm_3x3, convm_5x5, convm_7x7], axis=3)\n",
        "convm = add([resm, convm])\n",
        "\n",
        "# decoder 1\n",
        "deconv2 = Conv2DTranspose(128, (3,3), strides=(2, 2), padding=\"same\")(convm)\n",
        "x = concatenate([deconv2, respath2])\n",
        "ures2 = Conv2D(128, 1, padding=\"same\", activation=\"relu\")(x)\n",
        "uconv2_3x3 = Conv2D(round(128*0.5), (3,3), padding=\"same\", activation=\"relu\")(x)\n",
        "uconv2_5x5 = Conv2D(round(128*0.333), (3,3), padding=\"same\", activation=\"relu\")(uconv2_3x3)\n",
        "uconv2_7x7 = Conv2D(round(128*0.167), (3,3), padding=\"same\", activation=\"relu\")(uconv2_5x5)\n",
        "uconv2 = concatenate([uconv2_3x3, uconv2_5x5, uconv2_7x7], axis=3)\n",
        "uconv2 = add([ures2, uconv2])\n",
        "deconv1 = Conv2DTranspose(64, (3,3), strides=(2, 2), padding=\"same\")(uconv2)\n",
        "x = concatenate([deconv1, respath1])\n",
        "ures1 = Conv2D(64, 1, padding=\"same\", activation=\"relu\")(x)\n",
        "uconv1_3x3 = Conv2D(round(64*0.5), (3,3), padding=\"same\", activation=\"relu\")(x)\n",
        "uconv1_5x5 = Conv2D(round(64*0.333), (3,3), padding=\"same\", activation=\"relu\")(uconv1_3x3)\n",
        "uconv1_7x7 = Conv2D(round(64*0.167), (3,3), padding=\"same\", activation=\"relu\")(uconv1_5x5)\n",
        "uconv1 = concatenate([uconv1_3x3, uconv1_5x5, uconv1_7x7], axis=3)\n",
        "uconv1 = add([ures1, uconv1])\n",
        "f1f = Conv2D(1, (3,3), padding=\"same\")(uconv1)\n",
        "\n",
        "#decoder2\n",
        "deconv2 = Conv2DTranspose(128, (3,3), strides=(2, 2), padding=\"same\")(convm)\n",
        "x = concatenate([deconv2, respath2])\n",
        "ures2 = Conv2D(128, 1, padding=\"same\", activation=\"relu\")(x)\n",
        "uconv2_3x3 = Conv2D(round(128*0.5), (3,3), padding=\"same\", activation=\"relu\")(x)\n",
        "uconv2_5x5 = Conv2D(round(128*0.333), (3,3), padding=\"same\", activation=\"relu\")(uconv2_3x3)\n",
        "uconv2_7x7 = Conv2D(round(128*0.167), (3,3), padding=\"same\", activation=\"relu\")(uconv2_5x5)\n",
        "uconv2 = concatenate([uconv2_3x3, uconv2_5x5, uconv2_7x7], axis=3)\n",
        "uconv2 = add([ures2, uconv2])\n",
        "deconv1 = Conv2DTranspose(64, (3,3), strides=(2, 2), padding=\"same\")(uconv2)\n",
        "x = concatenate([deconv1, respath1])\n",
        "ures1 = Conv2D(64, 1, padding=\"same\", activation=\"relu\")(x)\n",
        "uconv1_3x3 = Conv2D(round(64*0.5), (3,3), padding=\"same\", activation=\"relu\")(x)\n",
        "uconv1_5x5 = Conv2D(round(64*0.333), (3,3), padding=\"same\", activation=\"relu\")(uconv1_3x3)\n",
        "uconv1_7x7 = Conv2D(round(64*0.167), (3,3), padding=\"same\", activation=\"relu\")(uconv1_5x5)\n",
        "uconv1 = concatenate([uconv1_3x3, uconv1_5x5, uconv1_7x7], axis=3)\n",
        "uconv1 = add([ures1, uconv1])\n",
        "f2f = Conv2D(1, (3,3), padding=\"same\")(uconv1)\n",
        "\n",
        "# the output of the 2 decoders are concatenated to create the 32x64 images\n",
        "output = concatenate([f1f, f2f], axis=2)"
      ],
      "metadata": {
        "id": "3inrIqxhGsNW"
      },
      "execution_count": null,
      "outputs": []
    },
    {
      "cell_type": "code",
      "source": [
        "model = Model(input, output)"
      ],
      "metadata": {
        "id": "6gwBF6N2dcGL"
      },
      "execution_count": null,
      "outputs": []
    },
    {
      "cell_type": "markdown",
      "source": [
        "#### Training\n",
        "\n",
        "Two callbacks were used:\n",
        "*   *EarlyStopping* stops the training when there are no improvements anymore;\n",
        "*   *ReduceLROnPlateau* to reduce the learning rate when the loss doesn't improve anymore, improving results.\n",
        "\n"
      ],
      "metadata": {
        "id": "wXe9Gm7RmFXw"
      }
    },
    {
      "cell_type": "code",
      "source": [
        "reduce_on_plateau_callback = tf.keras.callbacks.ReduceLROnPlateau(monitor='loss', min_lr=1e-6, factor=0.5, patience=2, verbose=1, mode='min')\n",
        "early_stopping_callback = tf.keras.callbacks.EarlyStopping(monitor='loss', patience=10, verbose=1, mode='auto', restore_best_weights=True)\n",
        "callbacks = [\n",
        "    reduce_on_plateau_callback,\n",
        "    early_stopping_callback\n",
        "]"
      ],
      "metadata": {
        "id": "TDQi2TUTdcKt"
      },
      "execution_count": null,
      "outputs": []
    },
    {
      "cell_type": "code",
      "source": [
        "opt = tf.keras.optimizers.Adam(learning_rate=1e-3)\n",
        "model.compile(optimizer=opt, loss='mse')"
      ],
      "metadata": {
        "id": "njhMfR55dgbn"
      },
      "execution_count": null,
      "outputs": []
    },
    {
      "cell_type": "code",
      "source": [
        "model.summary()"
      ],
      "metadata": {
        "colab": {
          "base_uri": "https://localhost:8080/"
        },
        "id": "reof28v9dggT",
        "outputId": "6a8839cb-3ce8-45e5-ad89-47d5aef0a9df"
      },
      "execution_count": null,
      "outputs": [
        {
          "output_type": "stream",
          "name": "stdout",
          "text": [
            "Model: \"model_1\"\n",
            "__________________________________________________________________________________________________\n",
            " Layer (type)                   Output Shape         Param #     Connected to                     \n",
            "==================================================================================================\n",
            " input_2 (InputLayer)           [(None, 32, 32, 1)]  0           []                               \n",
            "                                                                                                  \n",
            " conv2d_39 (Conv2D)             (None, 32, 32, 32)   320         ['input_2[0][0]']                \n",
            "                                                                                                  \n",
            " conv2d_40 (Conv2D)             (None, 32, 32, 21)   6069        ['conv2d_39[0][0]']              \n",
            "                                                                                                  \n",
            " conv2d_41 (Conv2D)             (None, 32, 32, 11)   2090        ['conv2d_40[0][0]']              \n",
            "                                                                                                  \n",
            " conv2d_38 (Conv2D)             (None, 32, 32, 64)   128         ['input_2[0][0]']                \n",
            "                                                                                                  \n",
            " concatenate_12 (Concatenate)   (None, 32, 32, 64)   0           ['conv2d_39[0][0]',              \n",
            "                                                                  'conv2d_40[0][0]',              \n",
            "                                                                  'conv2d_41[0][0]']              \n",
            "                                                                                                  \n",
            " add_11 (Add)                   (None, 32, 32, 64)   0           ['conv2d_38[0][0]',              \n",
            "                                                                  'concatenate_12[0][0]']         \n",
            "                                                                                                  \n",
            " max_pooling2d_2 (MaxPooling2D)  (None, 16, 16, 64)  0           ['add_11[0][0]']                 \n",
            "                                                                                                  \n",
            " conv2d_49 (Conv2D)             (None, 16, 16, 64)   36928       ['max_pooling2d_2[0][0]']        \n",
            "                                                                                                  \n",
            " conv2d_50 (Conv2D)             (None, 16, 16, 43)   24811       ['conv2d_49[0][0]']              \n",
            "                                                                                                  \n",
            " conv2d_51 (Conv2D)             (None, 16, 16, 21)   8148        ['conv2d_50[0][0]']              \n",
            "                                                                                                  \n",
            " conv2d_48 (Conv2D)             (None, 16, 16, 128)  8320        ['max_pooling2d_2[0][0]']        \n",
            "                                                                                                  \n",
            " concatenate_13 (Concatenate)   (None, 16, 16, 128)  0           ['conv2d_49[0][0]',              \n",
            "                                                                  'conv2d_50[0][0]',              \n",
            "                                                                  'conv2d_51[0][0]']              \n",
            "                                                                                                  \n",
            " add_15 (Add)                   (None, 16, 16, 128)  0           ['conv2d_48[0][0]',              \n",
            "                                                                  'concatenate_13[0][0]']         \n",
            "                                                                                                  \n",
            " max_pooling2d_3 (MaxPooling2D)  (None, 8, 8, 128)   0           ['add_15[0][0]']                 \n",
            "                                                                                                  \n",
            " conv2d_55 (Conv2D)             (None, 8, 8, 128)    147584      ['max_pooling2d_3[0][0]']        \n",
            "                                                                                                  \n",
            " conv2d_56 (Conv2D)             (None, 8, 8, 85)     98005       ['conv2d_55[0][0]']              \n",
            "                                                                                                  \n",
            " conv2d_57 (Conv2D)             (None, 8, 8, 43)     49579       ['conv2d_55[0][0]']              \n",
            "                                                                                                  \n",
            " conv2d_54 (Conv2D)             (None, 8, 8, 256)    33024       ['max_pooling2d_3[0][0]']        \n",
            "                                                                                                  \n",
            " concatenate_14 (Concatenate)   (None, 8, 8, 256)    0           ['conv2d_55[0][0]',              \n",
            "                                                                  'conv2d_56[0][0]',              \n",
            "                                                                  'conv2d_57[0][0]']              \n",
            "                                                                                                  \n",
            " add_17 (Add)                   (None, 8, 8, 256)    0           ['conv2d_54[0][0]',              \n",
            "                                                                  'concatenate_14[0][0]']         \n",
            "                                                                                                  \n",
            " conv2d_52 (Conv2D)             (None, 16, 16, 128)  147584      ['add_15[0][0]']                 \n",
            "                                                                                                  \n",
            " conv2d_53 (Conv2D)             (None, 16, 16, 128)  16512       ['add_15[0][0]']                 \n",
            "                                                                                                  \n",
            " conv2d_transpose_4 (Conv2DTran  (None, 16, 16, 128)  295040     ['add_17[0][0]']                 \n",
            " spose)                                                                                           \n",
            "                                                                                                  \n",
            " add_16 (Add)                   (None, 16, 16, 128)  0           ['conv2d_52[0][0]',              \n",
            "                                                                  'conv2d_53[0][0]']              \n",
            "                                                                                                  \n",
            " conv2d_transpose_6 (Conv2DTran  (None, 16, 16, 128)  295040     ['add_17[0][0]']                 \n",
            " spose)                                                                                           \n",
            "                                                                                                  \n",
            " concatenate_15 (Concatenate)   (None, 16, 16, 256)  0           ['conv2d_transpose_4[0][0]',     \n",
            "                                                                  'add_16[0][0]']                 \n",
            "                                                                                                  \n",
            " concatenate_19 (Concatenate)   (None, 16, 16, 256)  0           ['conv2d_transpose_6[0][0]',     \n",
            "                                                                  'add_16[0][0]']                 \n",
            "                                                                                                  \n",
            " conv2d_59 (Conv2D)             (None, 16, 16, 64)   147520      ['concatenate_15[0][0]']         \n",
            "                                                                                                  \n",
            " conv2d_42 (Conv2D)             (None, 32, 32, 64)   36928       ['add_11[0][0]']                 \n",
            "                                                                                                  \n",
            " conv2d_43 (Conv2D)             (None, 32, 32, 64)   4160        ['add_11[0][0]']                 \n",
            "                                                                                                  \n",
            " conv2d_68 (Conv2D)             (None, 16, 16, 64)   147520      ['concatenate_19[0][0]']         \n",
            "                                                                                                  \n",
            " conv2d_60 (Conv2D)             (None, 16, 16, 43)   24811       ['conv2d_59[0][0]']              \n",
            "                                                                                                  \n",
            " add_12 (Add)                   (None, 32, 32, 64)   0           ['conv2d_42[0][0]',              \n",
            "                                                                  'conv2d_43[0][0]']              \n",
            "                                                                                                  \n",
            " conv2d_69 (Conv2D)             (None, 16, 16, 43)   24811       ['conv2d_68[0][0]']              \n",
            "                                                                                                  \n",
            " conv2d_61 (Conv2D)             (None, 16, 16, 21)   8148        ['conv2d_60[0][0]']              \n",
            "                                                                                                  \n",
            " conv2d_44 (Conv2D)             (None, 32, 32, 64)   36928       ['add_12[0][0]']                 \n",
            "                                                                                                  \n",
            " conv2d_45 (Conv2D)             (None, 32, 32, 64)   4160        ['add_12[0][0]']                 \n",
            "                                                                                                  \n",
            " conv2d_70 (Conv2D)             (None, 16, 16, 21)   8148        ['conv2d_69[0][0]']              \n",
            "                                                                                                  \n",
            " conv2d_58 (Conv2D)             (None, 16, 16, 128)  32896       ['concatenate_15[0][0]']         \n",
            "                                                                                                  \n",
            " concatenate_16 (Concatenate)   (None, 16, 16, 128)  0           ['conv2d_59[0][0]',              \n",
            "                                                                  'conv2d_60[0][0]',              \n",
            "                                                                  'conv2d_61[0][0]']              \n",
            "                                                                                                  \n",
            " add_13 (Add)                   (None, 32, 32, 64)   0           ['conv2d_44[0][0]',              \n",
            "                                                                  'conv2d_45[0][0]']              \n",
            "                                                                                                  \n",
            " conv2d_67 (Conv2D)             (None, 16, 16, 128)  32896       ['concatenate_19[0][0]']         \n",
            "                                                                                                  \n",
            " concatenate_20 (Concatenate)   (None, 16, 16, 128)  0           ['conv2d_68[0][0]',              \n",
            "                                                                  'conv2d_69[0][0]',              \n",
            "                                                                  'conv2d_70[0][0]']              \n",
            "                                                                                                  \n",
            " add_18 (Add)                   (None, 16, 16, 128)  0           ['conv2d_58[0][0]',              \n",
            "                                                                  'concatenate_16[0][0]']         \n",
            "                                                                                                  \n",
            " conv2d_46 (Conv2D)             (None, 32, 32, 64)   36928       ['add_13[0][0]']                 \n",
            "                                                                                                  \n",
            " conv2d_47 (Conv2D)             (None, 32, 32, 64)   4160        ['add_13[0][0]']                 \n",
            "                                                                                                  \n",
            " add_20 (Add)                   (None, 16, 16, 128)  0           ['conv2d_67[0][0]',              \n",
            "                                                                  'concatenate_20[0][0]']         \n",
            "                                                                                                  \n",
            " conv2d_transpose_5 (Conv2DTran  (None, 32, 32, 64)  73792       ['add_18[0][0]']                 \n",
            " spose)                                                                                           \n",
            "                                                                                                  \n",
            " add_14 (Add)                   (None, 32, 32, 64)   0           ['conv2d_46[0][0]',              \n",
            "                                                                  'conv2d_47[0][0]']              \n",
            "                                                                                                  \n",
            " conv2d_transpose_7 (Conv2DTran  (None, 32, 32, 64)  73792       ['add_20[0][0]']                 \n",
            " spose)                                                                                           \n",
            "                                                                                                  \n",
            " concatenate_17 (Concatenate)   (None, 32, 32, 128)  0           ['conv2d_transpose_5[0][0]',     \n",
            "                                                                  'add_14[0][0]']                 \n",
            "                                                                                                  \n",
            " concatenate_21 (Concatenate)   (None, 32, 32, 128)  0           ['conv2d_transpose_7[0][0]',     \n",
            "                                                                  'add_14[0][0]']                 \n",
            "                                                                                                  \n",
            " conv2d_63 (Conv2D)             (None, 32, 32, 32)   36896       ['concatenate_17[0][0]']         \n",
            "                                                                                                  \n",
            " conv2d_72 (Conv2D)             (None, 32, 32, 32)   36896       ['concatenate_21[0][0]']         \n",
            "                                                                                                  \n",
            " conv2d_64 (Conv2D)             (None, 32, 32, 21)   6069        ['conv2d_63[0][0]']              \n",
            "                                                                                                  \n",
            " conv2d_73 (Conv2D)             (None, 32, 32, 21)   6069        ['conv2d_72[0][0]']              \n",
            "                                                                                                  \n",
            " conv2d_65 (Conv2D)             (None, 32, 32, 11)   2090        ['conv2d_64[0][0]']              \n",
            "                                                                                                  \n",
            " conv2d_74 (Conv2D)             (None, 32, 32, 11)   2090        ['conv2d_73[0][0]']              \n",
            "                                                                                                  \n",
            " conv2d_62 (Conv2D)             (None, 32, 32, 64)   8256        ['concatenate_17[0][0]']         \n",
            "                                                                                                  \n",
            " concatenate_18 (Concatenate)   (None, 32, 32, 64)   0           ['conv2d_63[0][0]',              \n",
            "                                                                  'conv2d_64[0][0]',              \n",
            "                                                                  'conv2d_65[0][0]']              \n",
            "                                                                                                  \n",
            " conv2d_71 (Conv2D)             (None, 32, 32, 64)   8256        ['concatenate_21[0][0]']         \n",
            "                                                                                                  \n",
            " concatenate_22 (Concatenate)   (None, 32, 32, 64)   0           ['conv2d_72[0][0]',              \n",
            "                                                                  'conv2d_73[0][0]',              \n",
            "                                                                  'conv2d_74[0][0]']              \n",
            "                                                                                                  \n",
            " add_19 (Add)                   (None, 32, 32, 64)   0           ['conv2d_62[0][0]',              \n",
            "                                                                  'concatenate_18[0][0]']         \n",
            "                                                                                                  \n",
            " add_21 (Add)                   (None, 32, 32, 64)   0           ['conv2d_71[0][0]',              \n",
            "                                                                  'concatenate_22[0][0]']         \n",
            "                                                                                                  \n",
            " conv2d_66 (Conv2D)             (None, 32, 32, 1)    577         ['add_19[0][0]']                 \n",
            "                                                                                                  \n",
            " conv2d_75 (Conv2D)             (None, 32, 32, 1)    577         ['add_21[0][0]']                 \n",
            "                                                                                                  \n",
            " concatenate_23 (Concatenate)   (None, 32, 64, 1)    0           ['conv2d_66[0][0]',              \n",
            "                                                                  'conv2d_75[0][0]']              \n",
            "                                                                                                  \n",
            "==================================================================================================\n",
            "Total params: 1,974,556\n",
            "Trainable params: 1,974,556\n",
            "Non-trainable params: 0\n",
            "__________________________________________________________________________________________________\n"
          ]
        }
      ]
    },
    {
      "cell_type": "code",
      "source": [
        "history = model.fit(train_generator, steps_per_epoch=100000, batch_size=batchsize, epochs=100, validation_data=val_generator, validation_steps=5000, callbacks=callbacks)"
      ],
      "metadata": {
        "colab": {
          "base_uri": "https://localhost:8080/"
        },
        "outputId": "79ba44f2-9b3b-4991-d8d2-fbff7ae92ce9",
        "id": "xp_VMutKzKJT"
      },
      "execution_count": null,
      "outputs": [
        {
          "output_type": "stream",
          "name": "stdout",
          "text": [
            "Epoch 1/100\n",
            "100000/100000 [==============================] - 1337s 13ms/step - loss: 0.0020 - val_loss: 0.0014 - lr: 0.0010\n",
            "Epoch 2/100\n",
            "100000/100000 [==============================] - 1317s 13ms/step - loss: 0.0013 - val_loss: 0.0012 - lr: 0.0010\n",
            "Epoch 3/100\n",
            "100000/100000 [==============================] - 1317s 13ms/step - loss: 0.0013 - val_loss: 0.0011 - lr: 0.0010\n",
            "Epoch 4/100\n",
            "100000/100000 [==============================] - 1318s 13ms/step - loss: 0.0012 - val_loss: 0.0012 - lr: 0.0010\n",
            "Epoch 5/100\n",
            "100000/100000 [==============================] - 1346s 13ms/step - loss: 0.0012 - val_loss: 0.0010 - lr: 0.0010\n",
            "Epoch 6/100\n",
            " 99999/100000 [============================>.] - ETA: 0s - loss: 0.0011\n",
            "Epoch 6: ReduceLROnPlateau reducing learning rate to 0.0005000000237487257.\n",
            "100000/100000 [==============================] - 1380s 14ms/step - loss: 0.0011 - val_loss: 0.0019 - lr: 0.0010\n",
            "Epoch 7/100\n",
            "100000/100000 [==============================] - 1397s 14ms/step - loss: 8.9461e-04 - val_loss: 8.0463e-04 - lr: 5.0000e-04\n",
            "Epoch 8/100\n",
            "100000/100000 [==============================] - 1376s 14ms/step - loss: 8.5330e-04 - val_loss: 7.8806e-04 - lr: 5.0000e-04\n",
            "Epoch 9/100\n",
            " 99999/100000 [============================>.] - ETA: 0s - loss: 8.3172e-04\n",
            "Epoch 9: ReduceLROnPlateau reducing learning rate to 0.0002500000118743628.\n",
            "100000/100000 [==============================] - 1326s 13ms/step - loss: 8.3171e-04 - val_loss: 8.0831e-04 - lr: 5.0000e-04\n",
            "Epoch 10/100\n",
            "100000/100000 [==============================] - 1326s 13ms/step - loss: 7.3051e-04 - val_loss: 7.4689e-04 - lr: 2.5000e-04\n",
            "Epoch 11/100\n",
            "100000/100000 [==============================] - 1327s 13ms/step - loss: 7.2183e-04 - val_loss: 6.8328e-04 - lr: 2.5000e-04\n",
            "Epoch 12/100\n",
            " 99997/100000 [============================>.] - ETA: 0s - loss: 7.0547e-04\n",
            "Epoch 12: ReduceLROnPlateau reducing learning rate to 0.0001250000059371814.\n",
            "100000/100000 [==============================] - 1340s 13ms/step - loss: 7.0549e-04 - val_loss: 7.4851e-04 - lr: 2.5000e-04\n",
            "Epoch 13/100\n",
            "100000/100000 [==============================] - 1324s 13ms/step - loss: 6.6434e-04 - val_loss: 6.5107e-04 - lr: 1.2500e-04\n",
            "Epoch 14/100\n",
            " 99998/100000 [============================>.] - ETA: 0s - loss: 6.5199e-04\n",
            "Epoch 14: ReduceLROnPlateau reducing learning rate to 6.25000029685907e-05.\n",
            "100000/100000 [==============================] - 1326s 13ms/step - loss: 6.5199e-04 - val_loss: 6.4790e-04 - lr: 1.2500e-04\n",
            "Epoch 15/100\n",
            "100000/100000 [==============================] - 1345s 13ms/step - loss: 6.2941e-04 - val_loss: 6.2360e-04 - lr: 6.2500e-05\n",
            "Epoch 16/100\n",
            "100000/100000 [==============================] - 1351s 14ms/step - loss: 6.2432e-04 - val_loss: 6.1935e-04 - lr: 6.2500e-05\n",
            "Epoch 17/100\n",
            " 99998/100000 [============================>.] - ETA: 0s - loss: 6.2063e-04\n",
            "Epoch 17: ReduceLROnPlateau reducing learning rate to 3.125000148429535e-05.\n",
            "100000/100000 [==============================] - 1340s 13ms/step - loss: 6.2062e-04 - val_loss: 5.9258e-04 - lr: 6.2500e-05\n",
            "Epoch 18/100\n",
            "100000/100000 [==============================] - 1346s 13ms/step - loss: 6.1148e-04 - val_loss: 6.0227e-04 - lr: 3.1250e-05\n",
            "Epoch 19/100\n",
            " 99997/100000 [============================>.] - ETA: 0s - loss: 6.0547e-04\n",
            "Epoch 19: ReduceLROnPlateau reducing learning rate to 1.5625000742147677e-05.\n",
            "100000/100000 [==============================] - 1348s 13ms/step - loss: 6.0547e-04 - val_loss: 6.0012e-04 - lr: 3.1250e-05\n",
            "Epoch 20/100\n",
            "100000/100000 [==============================] - 1347s 13ms/step - loss: 6.0129e-04 - val_loss: 5.9626e-04 - lr: 1.5625e-05\n",
            "Epoch 21/100\n",
            "100000/100000 [==============================] - ETA: 0s - loss: 5.9562e-04\n",
            "Epoch 21: ReduceLROnPlateau reducing learning rate to 7.812500371073838e-06.\n",
            "100000/100000 [==============================] - 1412s 14ms/step - loss: 5.9562e-04 - val_loss: 6.1388e-04 - lr: 1.5625e-05\n",
            "Epoch 22/100\n",
            "100000/100000 [==============================] - 1376s 14ms/step - loss: 5.9897e-04 - val_loss: 6.0085e-04 - lr: 7.8125e-06\n",
            "Epoch 23/100\n",
            "100000/100000 [==============================] - ETA: 0s - loss: 5.9485e-04\n",
            "Epoch 23: ReduceLROnPlateau reducing learning rate to 3.906250185536919e-06.\n",
            "100000/100000 [==============================] - 1359s 14ms/step - loss: 5.9485e-04 - val_loss: 5.9006e-04 - lr: 7.8125e-06\n",
            "Epoch 24/100\n",
            "100000/100000 [==============================] - 1438s 14ms/step - loss: 5.9578e-04 - val_loss: 6.0969e-04 - lr: 3.9063e-06\n",
            "Epoch 25/100\n",
            " 99997/100000 [============================>.] - ETA: 0s - loss: 5.9363e-04\n",
            "Epoch 25: ReduceLROnPlateau reducing learning rate to 1.9531250927684596e-06.\n",
            "100000/100000 [==============================] - 1362s 14ms/step - loss: 5.9364e-04 - val_loss: 5.9505e-04 - lr: 3.9063e-06\n",
            "Epoch 26/100\n",
            "100000/100000 [==============================] - 1343s 13ms/step - loss: 5.9405e-04 - val_loss: 5.8747e-04 - lr: 1.9531e-06\n",
            "Epoch 27/100\n",
            " 99999/100000 [============================>.] - ETA: 0s - loss: 5.9664e-04\n",
            "Epoch 27: ReduceLROnPlateau reducing learning rate to 1e-06.\n",
            "100000/100000 [==============================] - 1339s 13ms/step - loss: 5.9663e-04 - val_loss: 5.9980e-04 - lr: 1.9531e-06\n",
            "Epoch 28/100\n",
            "100000/100000 [==============================] - 1347s 13ms/step - loss: 5.9477e-04 - val_loss: 5.8383e-04 - lr: 1.0000e-06\n",
            "Epoch 29/100\n",
            "100000/100000 [==============================] - 1366s 14ms/step - loss: 5.9408e-04 - val_loss: 5.9738e-04 - lr: 1.0000e-06\n",
            "Epoch 30/100\n",
            "100000/100000 [==============================] - 1373s 14ms/step - loss: 5.9642e-04 - val_loss: 5.9214e-04 - lr: 1.0000e-06\n",
            "Epoch 31/100\n",
            "100000/100000 [==============================] - 1367s 14ms/step - loss: 5.9391e-04 - val_loss: 5.8798e-04 - lr: 1.0000e-06\n",
            "Epoch 32/100\n",
            "100000/100000 [==============================] - 1363s 14ms/step - loss: 5.9303e-04 - val_loss: 5.9050e-04 - lr: 1.0000e-06\n",
            "Epoch 33/100\n",
            "100000/100000 [==============================] - 1386s 14ms/step - loss: 5.9729e-04 - val_loss: 5.9321e-04 - lr: 1.0000e-06\n",
            "Epoch 34/100\n",
            "100000/100000 [==============================] - 1376s 14ms/step - loss: 5.9389e-04 - val_loss: 6.0593e-04 - lr: 1.0000e-06\n",
            "Epoch 35/100\n",
            "100000/100000 [==============================] - 1377s 14ms/step - loss: 5.9546e-04 - val_loss: 5.8748e-04 - lr: 1.0000e-06\n",
            "Epoch 36/100\n",
            "100000/100000 [==============================] - 1385s 14ms/step - loss: 5.9656e-04 - val_loss: 5.7709e-04 - lr: 1.0000e-06\n",
            "Epoch 37/100\n",
            "100000/100000 [==============================] - 1379s 14ms/step - loss: 5.9429e-04 - val_loss: 5.9232e-04 - lr: 1.0000e-06\n",
            "Epoch 38/100\n",
            "100000/100000 [==============================] - 1377s 14ms/step - loss: 5.9450e-04 - val_loss: 5.8679e-04 - lr: 1.0000e-06\n",
            "Epoch 39/100\n",
            "100000/100000 [==============================] - 1378s 14ms/step - loss: 5.9233e-04 - val_loss: 5.9380e-04 - lr: 1.0000e-06\n",
            "Epoch 40/100\n",
            "100000/100000 [==============================] - 1382s 14ms/step - loss: 5.9043e-04 - val_loss: 5.9278e-04 - lr: 1.0000e-06\n",
            "Epoch 41/100\n",
            "100000/100000 [==============================] - 1375s 14ms/step - loss: 5.9411e-04 - val_loss: 6.0551e-04 - lr: 1.0000e-06\n",
            "Epoch 42/100\n",
            "100000/100000 [==============================] - 1379s 14ms/step - loss: 5.9730e-04 - val_loss: 5.9652e-04 - lr: 1.0000e-06\n",
            "Epoch 43/100\n",
            "100000/100000 [==============================] - 1378s 14ms/step - loss: 5.8931e-04 - val_loss: 5.9480e-04 - lr: 1.0000e-06\n",
            "Epoch 44/100\n",
            "100000/100000 [==============================] - 1383s 14ms/step - loss: 5.8969e-04 - val_loss: 5.8869e-04 - lr: 1.0000e-06\n",
            "Epoch 45/100\n",
            "100000/100000 [==============================] - 1387s 14ms/step - loss: 5.9108e-04 - val_loss: 5.9342e-04 - lr: 1.0000e-06\n",
            "Epoch 46/100\n",
            "100000/100000 [==============================] - 1380s 14ms/step - loss: 5.9124e-04 - val_loss: 6.0089e-04 - lr: 1.0000e-06\n",
            "Epoch 47/100\n",
            "100000/100000 [==============================] - 1395s 14ms/step - loss: 5.9372e-04 - val_loss: 5.7245e-04 - lr: 1.0000e-06\n",
            "Epoch 48/100\n",
            "100000/100000 [==============================] - 1384s 14ms/step - loss: 5.9091e-04 - val_loss: 5.9483e-04 - lr: 1.0000e-06\n",
            "Epoch 49/100\n",
            "100000/100000 [==============================] - 1387s 14ms/step - loss: 5.9111e-04 - val_loss: 5.8908e-04 - lr: 1.0000e-06\n",
            "Epoch 50/100\n",
            "100000/100000 [==============================] - 1404s 14ms/step - loss: 5.9423e-04 - val_loss: 5.9213e-04 - lr: 1.0000e-06\n",
            "Epoch 51/100\n",
            "100000/100000 [==============================] - 1388s 14ms/step - loss: 5.9142e-04 - val_loss: 5.9791e-04 - lr: 1.0000e-06\n",
            "Epoch 52/100\n",
            "100000/100000 [==============================] - 1389s 14ms/step - loss: 5.9133e-04 - val_loss: 5.7918e-04 - lr: 1.0000e-06\n",
            "Epoch 53/100\n",
            " 99999/100000 [============================>.] - ETA: 0s - loss: 5.9419e-04Restoring model weights from the end of the best epoch: 43.\n",
            "100000/100000 [==============================] - 1388s 14ms/step - loss: 5.9419e-04 - val_loss: 5.9151e-04 - lr: 1.0000e-06\n",
            "Epoch 53: early stopping\n"
          ]
        }
      ]
    },
    {
      "cell_type": "markdown",
      "source": [
        "#### Results"
      ],
      "metadata": {
        "id": "laUrURfemNJy"
      }
    },
    {
      "cell_type": "code",
      "source": [
        "display_history(history)"
      ],
      "metadata": {
        "colab": {
          "base_uri": "https://localhost:8080/",
          "height": 295
        },
        "id": "rhi3X4Vtt48i",
        "outputId": "13a3b787-cc54-4c9f-d2cf-6dbc0b80e369"
      },
      "execution_count": null,
      "outputs": [
        {
          "output_type": "display_data",
          "data": {
            "text/plain": [
              "<Figure size 432x288 with 1 Axes>"
            ],
            "image/png": "[encoded data removed]"
          },
          "metadata": {
            "needs_background": "light"
          }
        }
      ]
    },
    {
      "cell_type": "markdown",
      "source": [
        "Thanks to the huge number of possible elements of the dataset there's no overfitting."
      ],
      "metadata": {
        "id": "m8XPY3yYjqCY"
      }
    },
    {
      "cell_type": "code",
      "source": [
        "x, y = next(test_generator)\n",
        "y_pred = model.predict(x)"
      ],
      "metadata": {
        "id": "mGXD6VNWdixm"
      },
      "execution_count": null,
      "outputs": []
    },
    {
      "cell_type": "code",
      "source": [
        "plt.imshow(x[0],cmap='gray', interpolation='nearest')\n",
        "plt.show()\n",
        "plt.imshow(y[0],cmap='gray', interpolation='nearest')\n",
        "plt.show()\n",
        "plt.imshow(y_pred[0].reshape((32,64)), cmap='gray', interpolation='nearest')\n",
        "plt.show()"
      ],
      "metadata": {
        "id": "1p8uw3Yvdi2A",
        "colab": {
          "base_uri": "https://localhost:8080/",
          "height": 666
        },
        "outputId": "73441b9f-7739-46fa-f438-34e17390707f"
      },
      "execution_count": null,
      "outputs": [
        {
          "output_type": "display_data",
          "data": {
            "text/plain": [
              "<Figure size 432x288 with 1 Axes>"
            ],
            "image/png": "[encoded data removed]"
          },
          "metadata": {
            "needs_background": "light"
          }
        },
        {
          "output_type": "display_data",
          "data": {
            "text/plain": [
              "<Figure size 432x288 with 1 Axes>"
            ],
            "image/png": "[encoded data removed]"
          },
          "metadata": {
            "needs_background": "light"
          }
        },
        {
          "output_type": "display_data",
          "data": {
            "text/plain": [
              "<Figure size 432x288 with 1 Axes>"
            ],
            "image/png": "[encoded data removed]"
          },
          "metadata": {
            "needs_background": "light"
          }
        }
      ]
    },
    {
      "cell_type": "markdown",
      "source": [
        "#### Model evaluation"
      ],
      "metadata": {
        "id": "uMCOJ-eymZRV"
      }
    },
    {
      "cell_type": "code",
      "source": [
        "mse=np.zeros(10)\n",
        "for i in range(10):\n",
        "  mse[i]=model.evaluate(test_generator, steps=20000)\n",
        "mean_mse=mse.mean()\n",
        "std=mse.std()\n",
        "print(f'Mean MSE: {mean_mse}\\nStandard deviation: {std}')"
      ],
      "metadata": {
        "colab": {
          "base_uri": "https://localhost:8080/"
        },
        "outputId": "49e65e49-323b-4576-c328-d790b08c54f3",
        "id": "OOKhR6mSZ3-P"
      },
      "execution_count": null,
      "outputs": [
        {
          "output_type": "stream",
          "name": "stdout",
          "text": [
            "20000/20000 [==============================] - 120s 6ms/step - loss: 5.9311e-04\n",
            "20000/20000 [==============================] - 116s 6ms/step - loss: 6.0017e-04\n",
            "20000/20000 [==============================] - 115s 6ms/step - loss: 5.9406e-04\n",
            "20000/20000 [==============================] - 115s 6ms/step - loss: 5.9295e-04\n",
            "20000/20000 [==============================] - 115s 6ms/step - loss: 5.9814e-04\n",
            "20000/20000 [==============================] - 126s 6ms/step - loss: 5.9653e-04\n",
            "20000/20000 [==============================] - 116s 6ms/step - loss: 5.9146e-04\n",
            "20000/20000 [==============================] - 115s 6ms/step - loss: 5.9513e-04\n",
            "20000/20000 [==============================] - 114s 6ms/step - loss: 5.9541e-04\n",
            "20000/20000 [==============================] - 115s 6ms/step - loss: 6.0069e-04\n",
            "Mean MSE: 0.0005957646470051258\n",
            "Standard deviation: 2.946819337813666e-06\n"
          ]
        }
      ]
    }
  ]
}